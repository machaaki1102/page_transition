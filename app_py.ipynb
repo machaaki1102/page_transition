{
  "nbformat": 4,
  "nbformat_minor": 0,
  "metadata": {
    "colab": {
      "name": "app.py",
      "provenance": [],
      "mount_file_id": "1zP-FFwCW8aficKt_yf8tRONxdPGXtJPs",
      "authorship_tag": "ABX9TyNNa7RK7i0qkNgOg0X1MGc+",
      "include_colab_link": true
    },
    "kernelspec": {
      "name": "python3",
      "display_name": "Python 3"
    },
    "language_info": {
      "name": "python"
    }
  },
  "cells": [
    {
      "cell_type": "markdown",
      "metadata": {
        "id": "view-in-github",
        "colab_type": "text"
      },
      "source": [
        "<a href=\"https://colab.research.google.com/github/machaaki1102/page_transition/blob/main/app_py.ipynb\" target=\"_parent\"><img src=\"https://colab.research.google.com/assets/colab-badge.svg\" alt=\"Open In Colab\"/></a>"
      ]
    },
    {
      "cell_type": "code",
      "source": [
        "import os\n",
        "import pandas as pd\n",
        "import streamlit as st\n",
        "import numpy as np\n",
        "#import plotly_express as px\n",
        "\n",
        "\n",
        "#MIKIO KUBO のyoutubeのWEBアプリの開発https://www.youtube.com/watch?v=wAwk2180JgE\n",
        "\n",
        "st.title('パーツ一覧')\n",
        "#文字列の表示\n",
        "st.write('検索結果')\n"
      ],
      "metadata": {
        "id": "PGAt4qBNxoO8"
      },
      "execution_count": null,
      "outputs": []
    }
  ]
}